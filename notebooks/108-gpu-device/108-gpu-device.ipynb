{
 "cells": [
  {
   "cell_type": "markdown",
   "id": "85bb873e-562a-4d60-9536-b6b88aecb5c2",
   "metadata": {},
   "source": [
    "# Working with GPUs in OpenVINO™\n",
    "\n",
    "This tutorial provides a high-level overview of working with Intel GPUs in OpenVINO. It shows users how to use Query Device to list system GPUs and check their properties, and it explains some of the key properties. It shows how to compile a model on GPU with performance hints and how to use multiple GPUs using MULTI or CUMULATIVE_THROUGHPUT. \n",
    "\n",
    "The tutorial shows example commands for benchmark_app that users can run to compare GPU performance in different configurations. It also provides code for a basic end-to-end application that compiles a model on GPU and uses it to run inference."
   ]
  },
  {
   "cell_type": "markdown",
   "id": "3e7253ed-d8a1-4475-8e83-263336639157",
   "metadata": {
    "jp-MarkdownHeadingCollapsed": true,
    "tags": []
   },
   "source": [
    "## Introduction"
   ]
  },
  {
   "cell_type": "markdown",
   "id": "ab1f9f13-63a4-4b2d-95e3-9a82c1e9cebd",
   "metadata": {},
   "source": [
    "1. Background and context on how GPUs are used to speed up inference\n",
    "2. Introduce OpenVINO’s ability to run inference with GPUs\n",
    "3. How to configure OpenVINO to work with GPUs (link to Configuration for GPU with OpenVINO page)"
   ]
  },
  {
   "cell_type": "markdown",
   "id": "d2f35f17-5209-43d6-b3b5-db35efb1f42e",
   "metadata": {
    "tags": []
   },
   "source": [
    "## Checking GPUs with Query Device"
   ]
  },
  {
   "cell_type": "markdown",
   "id": "4cb3ce23-2b04-4014-9eeb-c2b8309eb103",
   "metadata": {},
   "source": [
    "1. List GPUs with ie.get_available_devices\n",
    "2. Check properties with ie.get_property\n",
    "3. Brief descriptions of key properties"
   ]
  },
  {
   "cell_type": "markdown",
   "id": "c84c37c2-b24b-4c9f-9ab8-d3a60b8393ec",
   "metadata": {},
   "source": [
    "In this section we will see how to list the available GPUs and check their properties. Some of the key properties will also be defined."
   ]
  },
  {
   "cell_type": "markdown",
   "id": "f0e91abc-6118-4532-9817-6ef44c51b0c2",
   "metadata": {
    "tags": []
   },
   "source": [
    "### List GPUs with core.get_available_devices\n"
   ]
  },
  {
   "cell_type": "markdown",
   "id": "e76b6152-3915-415a-987b-c30935462007",
   "metadata": {},
   "source": [
    "Firstly, in order to use GPUs, we must make sure our system is detecting them correctly.\n",
    "Running the following cell should output a list of compatible OpenVINO devices, in which our Intel GPUs should appear."
   ]
  },
  {
   "cell_type": "code",
   "execution_count": 1,
   "id": "c8260bef-63c4-45f3-9ffd-4cc3ac892680",
   "metadata": {},
   "outputs": [
    {
     "data": {
      "text/plain": [
       "['CPU']"
      ]
     },
     "execution_count": 1,
     "metadata": {},
     "output_type": "execute_result"
    }
   ],
   "source": [
    "from openvino.runtime import Core\n",
    "\n",
    "core = Core()\n",
    "core.available_devices"
   ]
  },
  {
   "cell_type": "markdown",
   "id": "4e266c79-7bb9-4907-9204-87b688087cbf",
   "metadata": {},
   "source": [
    "If the GPUs are installed correctly in the system and still don't appear in the list, we should follow the steps described [here](https://docs.openvino.ai/latest/openvino_docs_install_guides_configurations_for_intel_gpu.html) and try again. Once we have the GPUs working with OpenVINO we can proceed with the next sections."
   ]
  },
  {
   "cell_type": "markdown",
   "id": "c0491c07-0b6d-483f-a4d6-d3f7b5ec0c81",
   "metadata": {
    "tags": []
   },
   "source": [
    "### Check properties with core.get_property"
   ]
  },
  {
   "cell_type": "markdown",
   "id": "54399a50-31cf-48bd-bf98-6dea0c0b1b20",
   "metadata": {},
   "source": [
    "Now, to get information and customize the behavior of our GPUs, we can use device properties. Devices in OpenVINO, such as CPUs and GPUs, have two types of properties: read-only and read-write. The former mainly shows information about the hardware itself like the device name or supported data types, while the latter allows us to tweak how the model is compiled, for instance to reduce latency or increase throughput."
   ]
  },
  {
   "cell_type": "markdown",
   "id": "bf7509b6-67e3-46fb-bb23-5f46c58b0fc1",
   "metadata": {},
   "source": [
    "So, to get the value of a property, such as the device name, we can use the `core.get_property` method as follows"
   ]
  },
  {
   "cell_type": "code",
   "execution_count": 2,
   "id": "eacdd5be-5d75-41d5-a51b-a376cb063b64",
   "metadata": {},
   "outputs": [
    {
     "data": {
      "text/plain": [
       "'Intel(R) Core(TM) i7-9750H CPU @ 2.60GHz'"
      ]
     },
     "execution_count": 2,
     "metadata": {},
     "output_type": "execute_result"
    }
   ],
   "source": [
    "core.get_property(\"CPU\", \"FULL_DEVICE_NAME\")"
   ]
  },
  {
   "cell_type": "markdown",
   "id": "aac3129a-129f-49aa-aba0-71ae1e892ada",
   "metadata": {},
   "source": [
    "Each device also has a specific property, called `SUPPORTED_PROPERTIES`, that allows us to see all the available properties in the device (including the `SUPPORTED_PROPERTIES` itself). To do this, we repeat the above command"
   ]
  },
  {
   "cell_type": "code",
   "execution_count": 3,
   "id": "cdea1793-0784-40a1-a279-ca73a6994ed7",
   "metadata": {},
   "outputs": [
    {
     "data": {
      "text/plain": [
       "{'SUPPORTED_PROPERTIES': 'RO',\n",
       " 'AVAILABLE_DEVICES': 'RO',\n",
       " 'RANGE_FOR_ASYNC_INFER_REQUESTS': 'RO',\n",
       " 'RANGE_FOR_STREAMS': 'RO',\n",
       " 'FULL_DEVICE_NAME': 'RO',\n",
       " 'OPTIMIZATION_CAPABILITIES': 'RO',\n",
       " 'CACHING_PROPERTIES': 'RO',\n",
       " 'CACHE_DIR': 'RO',\n",
       " 'NUM_STREAMS': 'RW',\n",
       " 'AFFINITY': 'RW',\n",
       " 'INFERENCE_NUM_THREADS': 'RW',\n",
       " 'PERF_COUNT': 'RW',\n",
       " 'INFERENCE_PRECISION_HINT': 'RW',\n",
       " 'PERFORMANCE_HINT': 'RW',\n",
       " 'PERFORMANCE_HINT_NUM_REQUESTS': 'RW'}"
      ]
     },
     "execution_count": 3,
     "metadata": {},
     "output_type": "execute_result"
    }
   ],
   "source": [
    "core.get_property(\"CPU\", \"SUPPORTED_PROPERTIES\")"
   ]
  },
  {
   "cell_type": "markdown",
   "id": "f0c2d865-4223-4b50-804d-b4659e4984e2",
   "metadata": {},
   "source": [
    "Note that the value for each property has either a \"RO\" or \"RW\", which corresponds to the two types mentioned previously, \"**R**ead-**O**nly\" and \"**R**-**W**rite\" respectively."
   ]
  },
  {
   "cell_type": "markdown",
   "id": "88546b71-2ae8-4519-b9b7-a54f444e204f",
   "metadata": {
    "tags": []
   },
   "source": [
    "### Brief descriptions of key properties"
   ]
  },
  {
   "cell_type": "markdown",
   "id": "6524096f-cc77-4dca-9e52-e5a3c2c0523b",
   "metadata": {},
   "source": [
    "Each device has several properties as seen in the last command. Some of the key properties would be\n",
    "\n",
    "* Read-Only\n",
    "    * `FULL_DEVICE_NAME` - The product name of the GPU and whether it is an integrated or discrete GPU (iGPU or dGPU).\n",
    "    * `OPTIMIZATION_CAPABILITIES` - The model data types (INT8, FP16, FP32, etc) that are supported by this GPU.\n",
    "    * `GPU_EXECUTION_UNITS_COUNT` - The execution cores available in the GPU's architecture, which is a relative measure of the GPU's processing power.\n",
    "    * `RANGE_FOR_STREAMS` - The number of processing streams available on the GPU that can be used to execute parallel inference requests. When compiling a model in LATENCY or THROUGHPUT mode, OpenVINO will automatically select the best number of streams for low latency or high throughput.\n",
    "    * `DEVICE_GOPS` - The Giga operations per second count (GFLOPS) for each precision the device supports.\n",
    "* Read-Write\n",
    "    * `PERFORMANCE_HINT` - A high-level way to tune the device for a specific performance metric, such as latency or throughput, without worrying about device-specific settings.\n",
    "    * `INFERENCE_PRECISION_HINT` - A high-level way to specify which model data type to use for inference."
   ]
  },
  {
   "cell_type": "markdown",
   "id": "8c5a6b5d-623b-4893-8a6d-051ac670f288",
   "metadata": {},
   "source": [
    "To sum up this section, we can check the value for each property by simply looping through the dictionary returned by `core.get_property(\"GPU\", \"SUPPORTED_PROPERTIES\")` and then querying for that property."
   ]
  },
  {
   "cell_type": "code",
   "execution_count": 11,
   "id": "87a913dc-8125-4270-9b3d-8e38c8324912",
   "metadata": {},
   "outputs": [
    {
     "name": "stdout",
     "output_type": "stream",
     "text": [
      "          SUPPORTED_PROPERTIES: {'SUPPORTED_PROPERTIES': 'RO', 'AVAILABLE_DEVICES': 'RO', 'RANGE_FOR_ASYNC_INFER_REQUESTS': 'RO', 'RANGE_FOR_STREAMS': 'RO', 'FULL_DEVICE_NAME': 'RO', 'OPTIMIZATION_CAPABILITIES': 'RO', 'CACHING_PROPERTIES': 'RO', 'CACHE_DIR': 'RO', 'NUM_STREAMS': 'RW', 'AFFINITY': 'RW', 'INFERENCE_NUM_THREADS': 'RW', 'PERF_COUNT': 'RW', 'INFERENCE_PRECISION_HINT': 'RW', 'PERFORMANCE_HINT': 'RW', 'PERFORMANCE_HINT_NUM_REQUESTS': 'RW'}\n",
      "             AVAILABLE_DEVICES: ['']\n",
      "RANGE_FOR_ASYNC_INFER_REQUESTS: (1, 1, 1)\n",
      "             RANGE_FOR_STREAMS: (1, 12)\n",
      "              FULL_DEVICE_NAME: Intel(R) Core(TM) i7-9750H CPU @ 2.60GHz\n",
      "     OPTIMIZATION_CAPABILITIES: ['FP32', 'FP16', 'INT8', 'BIN', 'EXPORT_IMPORT']\n",
      "            CACHING_PROPERTIES: {}\n",
      "                     CACHE_DIR: \n",
      "                   NUM_STREAMS: 1\n",
      "                      AFFINITY: Affinity.NONE\n",
      "         INFERENCE_NUM_THREADS: 0\n",
      "                    PERF_COUNT: False\n",
      "      INFERENCE_PRECISION_HINT: <Type: 'float32'>\n",
      "              PERFORMANCE_HINT: PerformanceMode.UNDEFINED\n",
      " PERFORMANCE_HINT_NUM_REQUESTS: 0\n"
     ]
    }
   ],
   "source": [
    "supported_properties = core.get_property(\"CPU\", \"SUPPORTED_PROPERTIES\")\n",
    "indent = len(max(supported_properties, key=len))\n",
    "for prop in supported_properties:\n",
    "    print(f\"{prop:>{indent}}:\", core.get_property(\"CPU\", prop))"
   ]
  },
  {
   "cell_type": "markdown",
   "id": "131bd0f9-9b1e-4fc1-ad09-3960e1d6c50f",
   "metadata": {
    "tags": []
   },
   "source": [
    "## Compiling a Model on GPU"
   ]
  },
  {
   "cell_type": "markdown",
   "id": "42e33c10-f8cc-494d-bfa7-567787590946",
   "metadata": {},
   "source": [
    "1. Compile with default configuration (ie.compile_model(model, “GPU”)\n",
    "2. Throughput and latency performance hints\n",
    "3. Using multiple GPUs with multi-device and cumulative throughput"
   ]
  },
  {
   "cell_type": "markdown",
   "id": "cea15935-2373-4029-8bc0-998558a6defe",
   "metadata": {},
   "source": [
    "We now know what is a GPU, how to check if we have one and its properties but, how do we actually **use** one?"
   ]
  },
  {
   "cell_type": "markdown",
   "id": "4cc043aa-8729-45bc-9e98-6b3daea9f271",
   "metadata": {
    "tags": []
   },
   "source": [
    "### Compile with default configuration (ie.compile_model(model, “GPU”)"
   ]
  },
  {
   "cell_type": "markdown",
   "id": "92ea18fb-7c2f-4809-a879-fe573c2a6d5b",
   "metadata": {},
   "source": [
    "In fact, due to the [AUTO plugin](https://docs.openvino.ai/latest/openvino_docs_OV_UG_supported_plugins_AUTO.html#how-auto-works), we might already be using GPUs if they are properly recognized by OpenVINO. Despite this, if we want to use a specific device, we can do so by compiling our models as follows"
   ]
  },
  {
   "cell_type": "code",
   "execution_count": 9,
   "id": "57f7d00e-ebe5-456d-8643-112e9d8c860d",
   "metadata": {},
   "outputs": [],
   "source": [
    "# load any model\n",
    "model = core.read_model(model=\"../001-hello-world/model/v3-small_224_1.0_float.xml\")\n",
    "\n",
    "# compile the loaded model using the GPU device\n",
    "compiled_model = core.compile_model(model, \"CPU\")"
   ]
  },
  {
   "cell_type": "markdown",
   "id": "257f128a-4d6b-4d16-b72e-ff5fe54e9480",
   "metadata": {},
   "source": [
    "Note that above we are using `\"GPU\"`, which is an alias for `\"GPU.0\"` according to the [docs](https://docs.openvino.ai/latest/openvino_docs_OV_UG_supported_plugins_GPU.html). Actually, as expected, any of the values returned by `core.available_devices` are valid device specifiers."
   ]
  },
  {
   "cell_type": "markdown",
   "id": "81cbc6cd-fca3-4d7b-9530-71893e68a57a",
   "metadata": {},
   "source": [
    "Once we have a compiled model, we can check for its properties, just as we did with the GPU devices in the previous section. Instead of calling `core.get_property` with a specific device, we can call `compiled_model.get_property` directly with the property name."
   ]
  },
  {
   "cell_type": "code",
   "execution_count": 10,
   "id": "50e92e58-70c1-4b76-a3cb-d6933580c3b5",
   "metadata": {},
   "outputs": [
    {
     "name": "stdout",
     "output_type": "stream",
     "text": [
      "            SUPPORTED_PROPERTIES: {'SUPPORTED_PROPERTIES': 'RO', 'NETWORK_NAME': 'RO', 'OPTIMAL_NUMBER_OF_INFER_REQUESTS': 'RO', 'NUM_STREAMS': 'RO', 'AFFINITY': 'RO', 'INFERENCE_NUM_THREADS': 'RO', 'PERF_COUNT': 'RO', 'INFERENCE_PRECISION_HINT': 'RO', 'PERFORMANCE_HINT': 'RO', 'PERFORMANCE_HINT_NUM_REQUESTS': 'RO'}\n",
      "                    NETWORK_NAME: v3-small_224_1.0_float\n",
      "OPTIMAL_NUMBER_OF_INFER_REQUESTS: 1\n",
      "                     NUM_STREAMS: 1\n",
      "                        AFFINITY: Affinity.NONE\n",
      "           INFERENCE_NUM_THREADS: 12\n",
      "                      PERF_COUNT: False\n",
      "        INFERENCE_PRECISION_HINT: <Type: 'float32'>\n",
      "                PERFORMANCE_HINT: PerformanceMode.UNDEFINED\n",
      "   PERFORMANCE_HINT_NUM_REQUESTS: 0\n"
     ]
    }
   ],
   "source": [
    "supported_properties = compiled_model.get_property(\"SUPPORTED_PROPERTIES\")\n",
    "indent = len(max(supported_properties, key=len))\n",
    "for prop in supported_properties:\n",
    "    print(f\"{prop:>{indent}}:\", compiled_model.get_property(prop))"
   ]
  },
  {
   "cell_type": "markdown",
   "id": "cbb73533-2767-4816-9c7f-83487c69bdfa",
   "metadata": {},
   "source": [
    "One of the key properties defined before that reappears here is the `PERFORMANCE_HINT`. The behavior of the hint itself is the same at both levels, except for the fact that the hint in the device can be considered as a \"global\" property, i.e all models created on that device will use the same value of the hint, whereas in the compiled model acts as a \"local\" one, i.e only affects that model. See [the docs](https://docs.openvino.ai/latest/openvino_docs_OV_UG_query_api.html#setting-properties-globally) for more info.\n",
    "\n",
    "Until now we have only queried either the device or the compiled model for properties but, how can we modify those that are read-write?"
   ]
  },
  {
   "cell_type": "markdown",
   "id": "2aa916d7-4626-4f54-9b34-954eca19aafb",
   "metadata": {
    "tags": []
   },
   "source": [
    "### Throughput and latency performance hints"
   ]
  },
  {
   "cell_type": "markdown",
   "id": "d11acfc8-909b-4efc-816e-6df0d96b7743",
   "metadata": {},
   "source": [
    "To modify properties at the device level, we can use the `core.set_property` method, in which instead of just using the property name, a dictionary is required specifying the value as well. For example, if we want to change the `PERFORMANCE_HINT` to improve latency we can do it like"
   ]
  },
  {
   "cell_type": "code",
   "execution_count": 25,
   "id": "ae0b488c-5128-4dea-a795-9d2ad71dca90",
   "metadata": {},
   "outputs": [
    {
     "data": {
      "text/plain": [
       "<PerformanceMode.LATENCY: 1>"
      ]
     },
     "execution_count": 25,
     "metadata": {},
     "output_type": "execute_result"
    }
   ],
   "source": [
    "core.set_property(\"CPU\", {\"PERFORMANCE_HINT\": \"LATENCY\"})\n",
    "core.get_property(\"CPU\", \"PERFORMANCE_HINT\")"
   ]
  },
  {
   "cell_type": "markdown",
   "id": "eb3a9b18-4e6d-445a-929e-a47f9f2bee00",
   "metadata": {},
   "source": [
    "If instead we only want to affect a certain model, we need to add the dictionary as the third argument in the `core.compile_model` method. For instance, to improve throughtput for just this model the following works"
   ]
  },
  {
   "cell_type": "code",
   "execution_count": 29,
   "id": "5407ef85-32b7-47b0-835c-8ef395a6e5c4",
   "metadata": {},
   "outputs": [
    {
     "data": {
      "text/plain": [
       "<PerformanceMode.THROUGHPUT: 2>"
      ]
     },
     "execution_count": 29,
     "metadata": {},
     "output_type": "execute_result"
    }
   ],
   "source": [
    "compiled_model = core.compile_model(model, \"CPU\", {\"PERFORMANCE_HINT\": \"THROUGHPUT\"})\n",
    "compiled_model.get_property(\"PERFORMANCE_HINT\")"
   ]
  },
  {
   "cell_type": "markdown",
   "id": "507684aa-3a40-46a2-a7bf-65a10b56ce9f",
   "metadata": {},
   "source": [
    "##### Throughput"
   ]
  },
  {
   "cell_type": "code",
   "execution_count": 7,
   "id": "1114f4ec-32a6-4b46-804d-b81eea8a6c3e",
   "metadata": {},
   "outputs": [],
   "source": [
    "compiled_model = core.compile_model(model, \"CPU\", {\"PERFORMANCE_HINT\": \"THROUGHPUT\"})"
   ]
  },
  {
   "cell_type": "code",
   "execution_count": 8,
   "id": "b9638b8d-daeb-422b-bb79-92248e11f208",
   "metadata": {},
   "outputs": [
    {
     "data": {
      "text/plain": [
       "<PerformanceMode.THROUGHPUT: 2>"
      ]
     },
     "execution_count": 8,
     "metadata": {},
     "output_type": "execute_result"
    }
   ],
   "source": [
    "compiled_model.get_property(\"PERFORMANCE_HINT\")"
   ]
  },
  {
   "cell_type": "markdown",
   "id": "0e6d0dab-11bf-489f-825c-f142327bd9ad",
   "metadata": {},
   "source": [
    "##### Latency"
   ]
  },
  {
   "cell_type": "code",
   "execution_count": 9,
   "id": "b8983f01-d894-4519-93c4-d9f8b5187362",
   "metadata": {},
   "outputs": [],
   "source": [
    "compiled_model = core.compile_model(model, \"CPU\", {\"PERFORMANCE_HINT\": \"LATENCY\"})"
   ]
  },
  {
   "cell_type": "code",
   "execution_count": 10,
   "id": "20904c05-3c07-48d3-a8b0-2d273b80cf9e",
   "metadata": {},
   "outputs": [
    {
     "data": {
      "text/plain": [
       "<PerformanceMode.LATENCY: 1>"
      ]
     },
     "execution_count": 10,
     "metadata": {},
     "output_type": "execute_result"
    }
   ],
   "source": [
    "compiled_model.get_property(\"PERFORMANCE_HINT\")"
   ]
  },
  {
   "cell_type": "markdown",
   "id": "b0a98815-669e-4868-a5f3-7104d6887fb3",
   "metadata": {
    "tags": []
   },
   "source": [
    "### Using multiple GPUs with multi-device and cumulative throughput"
   ]
  },
  {
   "cell_type": "markdown",
   "id": "78860fc9-27c2-4dec-9cd7-615ec3677c1d",
   "metadata": {
    "tags": []
   },
   "source": [
    "##### Multi-device"
   ]
  },
  {
   "cell_type": "code",
   "execution_count": 40,
   "id": "dd5e533c-2c8a-421f-b2de-111702df7427",
   "metadata": {},
   "outputs": [],
   "source": [
    "compiled_model = core.compile_model(model=model, device_name=\"MULTI:CPU\")"
   ]
  },
  {
   "cell_type": "code",
   "execution_count": 41,
   "id": "0487c917-6b73-4562-aa80-a83066172457",
   "metadata": {},
   "outputs": [
    {
     "data": {
      "text/plain": [
       "'THROUGHPUT'"
      ]
     },
     "execution_count": 41,
     "metadata": {},
     "output_type": "execute_result"
    }
   ],
   "source": [
    "compiled_model.get_property(\"PERFORMANCE_HINT\")"
   ]
  },
  {
   "cell_type": "markdown",
   "id": "0899199b-6d9d-4a77-b2a0-2ea58357be2f",
   "metadata": {},
   "source": [
    "##### Cumulative Throughput"
   ]
  },
  {
   "cell_type": "code",
   "execution_count": 34,
   "id": "2dba9ef3-999f-4a2f-a679-4ac98b9d7996",
   "metadata": {},
   "outputs": [],
   "source": [
    "compiled_model = core.compile_model(model, \"CPU\", {\"PERFORMANCE_HINT\": \"CUMULATIVE_THROUGHPUT\"})"
   ]
  },
  {
   "cell_type": "code",
   "execution_count": 36,
   "id": "88cdc3aa-ff94-4cae-8d74-3841f794bb42",
   "metadata": {},
   "outputs": [
    {
     "data": {
      "text/plain": [
       "<PerformanceMode.THROUGHPUT: 2>"
      ]
     },
     "execution_count": 36,
     "metadata": {},
     "output_type": "execute_result"
    }
   ],
   "source": [
    "compiled_model.get_property(\"PERFORMANCE_HINT\")"
   ]
  },
  {
   "cell_type": "markdown",
   "id": "99351910-c54c-4f55-b1ce-eb74125a9dbd",
   "metadata": {
    "tags": []
   },
   "source": [
    "## Performance Comparison with benchmark_app"
   ]
  },
  {
   "cell_type": "markdown",
   "id": "4f453eca-41ac-42fc-b77b-9aa8d8e3ab20",
   "metadata": {},
   "source": [
    "1. Commands showing users how to run benchmark_app on GPU with various performance hints\n",
    "2. Show performance results with a basic model (person-detection-0303, perhaps)"
   ]
  },
  {
   "cell_type": "markdown",
   "id": "d079dae9-c08d-4343-913e-7569a83718c8",
   "metadata": {},
   "source": [
    "For further details check https://docs.openvino.ai/latest/openvino_inference_engine_tools_benchmark_tool_README.html#benchmark-python-tool"
   ]
  },
  {
   "cell_type": "markdown",
   "id": "df239f8c-2597-46d4-86a0-c23bd1591a33",
   "metadata": {},
   "source": [
    "### Commands showing users how to run benchmark_app on GPU with various performance hints"
   ]
  },
  {
   "cell_type": "code",
   "execution_count": 11,
   "id": "74c76637-f86c-41d5-8846-6e3946126084",
   "metadata": {},
   "outputs": [
    {
     "name": "stdout",
     "output_type": "stream",
     "text": [
      "[Step 1/11] Parsing and validating input arguments\n",
      "[ INFO ] Parsing input parameters\n",
      "[Step 2/11] Loading OpenVINO Runtime\n",
      "[ INFO ] OpenVINO:\n",
      "[ INFO ] Build ................................. 2022.3.0-9052-9752fafe8eb-releases/2022/3\n",
      "[ INFO ] \n",
      "[ INFO ] Device info:\n",
      "[ ERROR ] Device with \"GPU\" name is not registered in the OpenVINO Runtime\n",
      "Traceback (most recent call last):\n",
      "  File \"/Users/juliomorero/Documents/bdti/openvino_env/lib/python3.10/site-packages/openvino/tools/benchmark/main.py\", line 104, in main\n",
      "    benchmark.print_version_info()\n",
      "  File \"/Users/juliomorero/Documents/bdti/openvino_env/lib/python3.10/site-packages/openvino/tools/benchmark/benchmark.py\", line 48, in print_version_info\n",
      "    for device, version in self.core.get_versions(self.device).items():\n",
      "RuntimeError: Device with \"GPU\" name is not registered in the OpenVINO Runtime\n"
     ]
    }
   ],
   "source": [
    "!benchmark_app -m notebooks/001-hello-world/model/v3-small_224_1.0_float.xml -hint latency -d GPU"
   ]
  },
  {
   "cell_type": "code",
   "execution_count": null,
   "id": "94ecf50d-179d-415e-be3a-c57f53149b67",
   "metadata": {
    "tags": []
   },
   "outputs": [],
   "source": [
    "!benchmark_app -m notebooks/001-hello-world/model/v3-small_224_1.0_float.xml -hint latency"
   ]
  },
  {
   "cell_type": "code",
   "execution_count": null,
   "id": "0eab12ce-3e31-4efc-855d-37c44073af10",
   "metadata": {},
   "outputs": [],
   "source": [
    "!benchmark_app -m notebooks/001-hello-world/model/v3-small_224_1.0_float.xml -hint throughput"
   ]
  },
  {
   "cell_type": "code",
   "execution_count": null,
   "id": "28d618c8-6a8b-482d-adf6-d78795c30107",
   "metadata": {},
   "outputs": [],
   "source": [
    "!benchmark_app -m notebooks/001-hello-world/model/v3-small_224_1.0_float.xml -hint cumulative_throughput"
   ]
  },
  {
   "cell_type": "markdown",
   "id": "81464f73-ef33-47fa-9239-7a817a1ce35b",
   "metadata": {},
   "source": [
    "### Show performance results with a basic model (person-detection-0303, perhaps)"
   ]
  },
  {
   "cell_type": "markdown",
   "id": "d3fd1496-996d-49d8-80b9-3bfb3dda9729",
   "metadata": {
    "jp-MarkdownHeadingCollapsed": true,
    "tags": []
   },
   "source": [
    "## Basic Application Using GPUs"
   ]
  },
  {
   "cell_type": "markdown",
   "id": "0bacb918-3668-4e72-92ba-a15db658c369",
   "metadata": {},
   "source": [
    "1. Provide end-to-end sample code for running inference on GPU in a basic application"
   ]
  },
  {
   "cell_type": "markdown",
   "id": "58fb6bb6-0d1c-4b0b-8a0b-efb5667816ea",
   "metadata": {
    "jp-MarkdownHeadingCollapsed": true,
    "tags": []
   },
   "source": [
    "## Conclusion"
   ]
  },
  {
   "cell_type": "markdown",
   "id": "dbbb4f28-2917-45ca-8fa0-8c670c0348bc",
   "metadata": {},
   "source": [
    "1. GPUs are easy to use with OpenVINO and considerably boost performance\n",
    "2. Links to OpenVINO documentation where readers can learn more"
   ]
  }
 ],
 "metadata": {
  "kernelspec": {
   "display_name": "Python 3",
   "language": "python",
   "name": "python3"
  },
  "language_info": {
   "codemirror_mode": {
    "name": "ipython",
    "version": 3
   },
   "file_extension": ".py",
   "mimetype": "text/x-python",
   "name": "python",
   "nbconvert_exporter": "python",
   "pygments_lexer": "ipython3",
   "version": "3.10.5"
  }
 },
 "nbformat": 4,
 "nbformat_minor": 5
}
